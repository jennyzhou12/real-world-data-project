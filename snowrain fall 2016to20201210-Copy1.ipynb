{
 "cells": [
  {
   "cell_type": "code",
   "execution_count": 49,
   "metadata": {},
   "outputs": [],
   "source": [
    "import pandas as pd\n",
    "from matplotlib import pyplot as plt"
   ]
  },
  {
   "cell_type": "code",
   "execution_count": 42,
   "metadata": {},
   "outputs": [
    {
     "data": {
      "text/plain": [
       "Index(['Longitude (x)', 'Latitude (y)', 'Station Name', 'Climate ID',\n",
       "       'Date/Time', 'Year', 'Month', 'Day', 'Data Quality', 'Max Temp (°C)',\n",
       "       'Max Temp Flag', 'Min Temp (°C)', 'Min Temp Flag', 'Mean Temp (°C)',\n",
       "       'Mean Temp Flag', 'Heat Deg Days (°C)', 'Heat Deg Days Flag',\n",
       "       'Cool Deg Days (°C)', 'Cool Deg Days Flag', 'Total Rain (mm)',\n",
       "       'Total Rain Flag', 'Total Snow (cm)', 'Total Snow Flag',\n",
       "       'Total Precip (mm)', 'Total Precip Flag', 'Snow on Grnd (cm)',\n",
       "       'Snow on Grnd Flag', 'Dir of Max Gust (10s deg)',\n",
       "       'Dir of Max Gust Flag', 'Spd of Max Gust (km/h)',\n",
       "       'Spd of Max Gust Flag'],\n",
       "      dtype='object')"
      ]
     },
     "execution_count": 42,
     "metadata": {},
     "output_type": "execute_result"
    }
   ],
   "source": [
    "df16=pd.read_csv(\"en_climate_daily_ON_615S001_2016_P1D.csv\")\n",
    "df17=pd.read_csv(\"en_climate_daily_ON_615S001_2017_P1D.csv\")\n",
    "df18=pd.read_csv(\"en_climate_daily_ON_615S001_2018_P1D.csv\")\n",
    "df19=pd.read_csv(\"en_climate_daily_ON_615S001_2019_P1D.csv\")\n",
    "df20=pd.read_csv(\"en_climate_daily_ON_615S001_2020_P1D.csv\")\n",
    "df16.columns"
   ]
  },
  {
   "cell_type": "code",
   "execution_count": 39,
   "metadata": {},
   "outputs": [],
   "source": [
    "totalsnow16=df16[\"Total Snow (cm)\"].sum()\n",
    "totalsnow17=df17[\"Total Snow (cm)\"].sum()\n",
    "totalsnow18=df18[\"Total Snow (cm)\"].sum()\n",
    "totalsnow19=df19[\"Total Snow (cm)\"].sum()\n",
    "totalsnow20=df20[\"Total Snow (cm)\"].sum()\n",
    "totalrain16=df16[\"Total Rain (mm)\"].sum()\n",
    "totalrain17=df17[\"Total Rain (mm)\"].sum()\n",
    "totalrain18=df18[\"Total Rain (mm)\"].sum()\n",
    "totalrain19=df19[\"Total Rain (mm)\"].sum()\n",
    "totalrain20=df20[\"Total Rain (mm)\"].sum()"
   ]
  },
  {
   "cell_type": "code",
   "execution_count": 40,
   "metadata": {},
   "outputs": [
    {
     "data": {
      "text/html": [
       "<div>\n",
       "<style scoped>\n",
       "    .dataframe tbody tr th:only-of-type {\n",
       "        vertical-align: middle;\n",
       "    }\n",
       "\n",
       "    .dataframe tbody tr th {\n",
       "        vertical-align: top;\n",
       "    }\n",
       "\n",
       "    .dataframe thead th {\n",
       "        text-align: right;\n",
       "    }\n",
       "</style>\n",
       "<table border=\"1\" class=\"dataframe\">\n",
       "  <thead>\n",
       "    <tr style=\"text-align: right;\">\n",
       "      <th></th>\n",
       "      <th>Year</th>\n",
       "      <th>Total Snow (cm)</th>\n",
       "      <th>Total Rain (mm)</th>\n",
       "    </tr>\n",
       "  </thead>\n",
       "  <tbody>\n",
       "    <tr>\n",
       "      <th>0</th>\n",
       "      <td>2016</td>\n",
       "      <td>127.6</td>\n",
       "      <td>533.6</td>\n",
       "    </tr>\n",
       "    <tr>\n",
       "      <th>1</th>\n",
       "      <td>2017</td>\n",
       "      <td>93.6</td>\n",
       "      <td>943.6</td>\n",
       "    </tr>\n",
       "    <tr>\n",
       "      <th>2</th>\n",
       "      <td>2018</td>\n",
       "      <td>102.4</td>\n",
       "      <td>806.0</td>\n",
       "    </tr>\n",
       "    <tr>\n",
       "      <th>3</th>\n",
       "      <td>2019</td>\n",
       "      <td>172.0</td>\n",
       "      <td>712.1</td>\n",
       "    </tr>\n",
       "    <tr>\n",
       "      <th>4</th>\n",
       "      <td>2020</td>\n",
       "      <td>132.8</td>\n",
       "      <td>420.3</td>\n",
       "    </tr>\n",
       "  </tbody>\n",
       "</table>\n",
       "</div>"
      ],
      "text/plain": [
       "   Year  Total Snow (cm)  Total Rain (mm)\n",
       "0  2016            127.6            533.6\n",
       "1  2017             93.6            943.6\n",
       "2  2018            102.4            806.0\n",
       "3  2019            172.0            712.1\n",
       "4  2020            132.8            420.3"
      ]
     },
     "execution_count": 40,
     "metadata": {},
     "output_type": "execute_result"
    }
   ],
   "source": [
    "\n",
    "weather = {\n",
    "    \"Year\":[2016,2017,2018,2019,2020],\n",
    "    \"Total Snow (cm)\": [totalsnow16, totalsnow17, totalsnow18,totalsnow19,totalsnow20],\n",
    "    \"Total Rain (mm)\": [totalrain16,totalrain17,totalrain18,totalrain19,totalrain20]}\n",
    "    \n",
    "df=pd.DataFrame(weather)\n",
    "df\n",
    "    "
   ]
  },
  {
   "cell_type": "code",
   "execution_count": 51,
   "metadata": {},
   "outputs": [],
   "source": [
    "plt.style.use(\"fivethirtyeight\")\n",
    "df=df.set_index(\"Year\")"
   ]
  },
  {
   "cell_type": "code",
   "execution_count": 56,
   "metadata": {},
   "outputs": [
    {
     "data": {
      "text/plain": [
       "(array([0, 1, 2, 3, 4]), <a list of 5 Text major ticklabel objects>)"
      ]
     },
     "execution_count": 56,
     "metadata": {},
     "output_type": "execute_result"
    },
    {
     "data": {
      "image/png": "[encoded data removed]",
      "text/plain": [
       "<Figure size 432x288 with 1 Axes>"
      ]
     },
     "metadata": {},
     "output_type": "display_data"
    }
   ],
   "source": [
    "df.plot(kind=\"bar\")\n",
    "plt.xticks(rotation=0, horizontalalignment=\"center\")\n"
   ]
  },
  {
   "cell_type": "code",
   "execution_count": null,
   "metadata": {},
   "outputs": [],
   "source": []
  }
 ],
 "metadata": {
  "kernelspec": {
   "display_name": "Python 3",
   "language": "python",
   "name": "python3"
  },
  "language_info": {
   "codemirror_mode": {
    "name": "ipython",
    "version": 3
   },
   "file_extension": ".py",
   "mimetype": "text/x-python",
   "name": "python",
   "nbconvert_exporter": "python",
   "pygments_lexer": "ipython3",
   "version": "3.8.3"
  }
 },
 "nbformat": 4,
 "nbformat_minor": 4
}
